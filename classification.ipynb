{
 "cells": [
  {
   "cell_type": "raw",
   "metadata": {},
   "source": [
    "(nlp) ➜  emotion_classification git:(master) ✗ head emotions.txt        \n",
    "__label__neutral क्या हाल चाल है \n",
    "__label__happy होटल तो लाजवाब है \n",
    "__label__sad कैब वाले ने मुझसे बदतमीजी की \n",
    "__label__happy क्या कमल कर दिया तूने \n",
    "__label__happy लाजवाब जगह था वह \n",
    "__label__happy थैंकयू सारथी! आय लव यू ! \n",
    "__label__neutral इधर कोई ३ स्टार होटल है आस पास मै \n",
    "__label__neutral ठीक ठाक एप्प लगता है \n",
    "__label__angry अभी तक साले ने डिलीवरी नहीं दी \n",
    "__label__angry ये चैनल्स का रेट इतना ज्यादा क्यों कर देते है बार बार "
   ]
  },
  {
   "cell_type": "raw",
   "metadata": {},
   "source": [
    "(nlp) ➜  emotion_classification git:(master) ✗ wc emotions.txt         \n",
    "  494  3379 41200 emotions.txt"
   ]
  },
  {
   "cell_type": "raw",
   "metadata": {},
   "source": [
    "(nlp) ➜  emotion_classification git:(master) ✗ head -n 397 emotions.txt > emotions.train\n",
    "(nlp) ➜  emotion_classification git:(master) ✗ tail -n 100 emotions.txt > emotions.valid"
   ]
  },
  {
   "cell_type": "code",
   "execution_count": null,
   "metadata": {},
   "outputs": [],
   "source": []
  }
 ],
 "metadata": {
  "kernelspec": {
   "display_name": "Python [conda env:nlp] *",
   "language": "python",
   "name": "conda-env-nlp-py"
  },
  "language_info": {
   "codemirror_mode": {
    "name": "ipython",
    "version": 3
   },
   "file_extension": ".py",
   "mimetype": "text/x-python",
   "name": "python",
   "nbconvert_exporter": "python",
   "pygments_lexer": "ipython3",
   "version": "3.7.6"
  }
 },
 "nbformat": 4,
 "nbformat_minor": 4
}
