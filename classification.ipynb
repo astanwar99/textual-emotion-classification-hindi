{
 "cells": [
  {
   "cell_type": "markdown",
   "metadata": {},
   "source": [
    "# emotions.txt (dataset)\n",
    "```zsh\n",
    "(nlp) ➜  emotion_classification git:(master) ✗ head emotions.txt        \n",
    "__label__neutral क्या हाल चाल है \n",
    "__label__happy होटल तो लाजवाब है \n",
    "__label__sad कैब वाले ने मुझसे बदतमीजी की \n",
    "__label__happy क्या कमल कर दिया तूने \n",
    "__label__happy लाजवाब जगह था वह \n",
    "__label__happy थैंकयू सारथी! आय लव यू ! \n",
    "__label__neutral इधर कोई ३ स्टार होटल है आस पास मै \n",
    "__label__neutral ठीक ठाक एप्प लगता है \n",
    "__label__angry अभी तक साले ने डिलीवरी नहीं दी \n",
    "__label__angry ये चैनल्स का रेट इतना ज्यादा क्यों कर देते है बार बार\n",
    "```"
   ]
  },
  {
   "cell_type": "markdown",
   "metadata": {},
   "source": [
    "# File summary\n",
    "```zsh\n",
    "(nlp) ➜  emotion_classification git:(master) ✗ wc emotions.txt         \n",
    "  494  3379 41200 emotions.txt\n",
    "```"
   ]
  },
  {
   "cell_type": "markdown",
   "metadata": {},
   "source": [
    "# Splitting dataset\n",
    "```zsh\n",
    "(nlp) ➜  emotion_classification git:(master) ✗ head -n 397 emotions.txt > emotions.train\n",
    "(nlp) ➜  emotion_classification git:(master) ✗ tail -n 100 emotions.txt > emotions.valid\n",
    "```"
   ]
  },
  {
   "cell_type": "code",
   "execution_count": 1,
   "metadata": {},
   "outputs": [],
   "source": [
    "import fasttext\n",
    "import fasttext.util\n",
    "import io"
   ]
  },
  {
   "cell_type": "code",
   "execution_count": 18,
   "metadata": {},
   "outputs": [
    {
     "data": {
      "text/plain": [
       "(100, 0.3, 0.3)"
      ]
     },
     "execution_count": 18,
     "metadata": {},
     "output_type": "execute_result"
    }
   ],
   "source": [
    "#default hyperparameters\n",
    "model = fasttext.train_supervised(input=\"emotions.train\", lr=0.1)\n",
    "model.test(\"emotions.valid\")"
   ]
  },
  {
   "cell_type": "code",
   "execution_count": 13,
   "metadata": {
    "scrolled": true
   },
   "outputs": [
    {
     "name": "stdout",
     "output_type": "stream",
     "text": [
      "0.3 0.2\n",
      "0.37 0.30000000000000004\n",
      "0.61 0.4\n",
      "0.66 0.5\n",
      "0.7100000000000001 0.6\n",
      "0.69 0.7\n"
     ]
    }
   ],
   "source": [
    "#learning rate\n",
    "max_f1 = 0\n",
    "f1 = 0.01\n",
    "learning_rate = 0.1\n",
    "while(f1 >= max_f1):\n",
    "    model = fasttext.train_supervised(input=\"emotions.train\", lr=learning_rate)\n",
    "    l, recall, precesion = model.test(\"emotions.valid\")\n",
    "    f1 = 2 * recall * precesion/(recall + precesion)\n",
    "    if(f1 > max_f1):\n",
    "        max_f1 = f1\n",
    "    learning_rate += 0.1\n",
    "    print(f1, learning_rate)"
   ]
  },
  {
   "cell_type": "code",
   "execution_count": 32,
   "metadata": {},
   "outputs": [
    {
     "name": "stdout",
     "output_type": "stream",
     "text": [
      "0.72\n"
     ]
    }
   ],
   "source": [
    "#Number of epoch: default = 5\n",
    "model = fasttext.train_supervised(input=\"emotions.train\", lr=0.6, epoch=20)\n",
    "l, recall, precesion = model.test(\"emotions.valid\")\n",
    "f1 = 2 * recall * precesion/(recall + precesion)\n",
    "print(f1)"
   ]
  },
  {
   "cell_type": "code",
   "execution_count": 38,
   "metadata": {},
   "outputs": [],
   "source": [
    "#word n-grams: default = 1\n",
    "wordN = [2, 3, 4, 5, 6, 7]\n",
    "f1_score = []\n",
    "for wng in wordN:\n",
    "    model = fasttext.train_supervised(input=\"emotions.train\", lr=0.6, epoch=20, wordNgrams=wng)\n",
    "    l, recall, precesion = model.test(\"emotions.valid\")\n",
    "    f1 = 2 * recall * precesion/(recall + precesion)\n",
    "    f1_score.append(f1)"
   ]
  },
  {
   "cell_type": "code",
   "execution_count": 40,
   "metadata": {},
   "outputs": [
    {
     "name": "stdout",
     "output_type": "stream",
     "text": [
      "[0.74, 0.7299999999999999, 0.74, 0.76, 0.7299999999999999, 0.7299999999999999]\n"
     ]
    }
   ],
   "source": [
    "print(f1_score)"
   ]
  },
  {
   "cell_type": "code",
   "execution_count": 47,
   "metadata": {},
   "outputs": [],
   "source": [
    "#final hyperparameters\n",
    "optimalWNG = wordN[f1_score.index(max(f1_score))]\n",
    "learning_rate = 0.6\n",
    "epochs = 20"
   ]
  },
  {
   "cell_type": "code",
   "execution_count": 49,
   "metadata": {},
   "outputs": [
    {
     "name": "stdout",
     "output_type": "stream",
     "text": [
      "0.76\n"
     ]
    }
   ],
   "source": [
    "model = fasttext.train_supervised(input=\"emotions.train\", lr=learning_rate, epoch=epochs, wordNgrams=optimalWNG)\n",
    "l, recall, precesion = model.test(\"emotions.valid\")\n",
    "f1 = 2 * recall * precesion/(recall + precesion)\n",
    "print(f1)"
   ]
  },
  {
   "cell_type": "code",
   "execution_count": null,
   "metadata": {},
   "outputs": [],
   "source": []
  }
 ],
 "metadata": {
  "kernelspec": {
   "display_name": "Python [conda env:nlp] *",
   "language": "python",
   "name": "conda-env-nlp-py"
  },
  "language_info": {
   "codemirror_mode": {
    "name": "ipython",
    "version": 3
   },
   "file_extension": ".py",
   "mimetype": "text/x-python",
   "name": "python",
   "nbconvert_exporter": "python",
   "pygments_lexer": "ipython3",
   "version": "3.7.6"
  }
 },
 "nbformat": 4,
 "nbformat_minor": 4
}
