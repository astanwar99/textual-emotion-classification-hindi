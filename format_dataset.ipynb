{
 "cells": [
  {
   "cell_type": "code",
   "execution_count": 1,
   "metadata": {},
   "outputs": [],
   "source": [
    "import os\n",
    "import csv"
   ]
  },
  {
   "cell_type": "code",
   "execution_count": 2,
   "metadata": {},
   "outputs": [],
   "source": [
    "def make_dataset(label, index):\n",
    "    data = []\n",
    "\n",
    "    path = \"/home/astanwar99/Devspace/DeepLearning/emotion_classification/emotions/\" + label + \"/\"\n",
    "    all_files = os.listdir(path)\n",
    "    for file in all_files:\n",
    "       # open the file and then call .read() to get the text\n",
    "        with open(os.path.join(path, file)) as f:\n",
    "            text = f.read()\n",
    "            data.append(text)\n",
    "    \n",
    "    with open('dataset1.csv', 'a', newline='') as file:\n",
    "        writer = csv.writer(file)\n",
    "        for i in data:\n",
    "            temp = [i, index, label]\n",
    "            writer.writerow(temp)"
   ]
  },
  {
   "cell_type": "code",
   "execution_count": 3,
   "metadata": {},
   "outputs": [],
   "source": [
    "make_dataset(\"angry\", 1)\n",
    "make_dataset(\"happy\", 2)\n",
    "make_dataset(\"neutral\", 3)\n",
    "make_dataset(\"sad\", 4)"
   ]
  },
  {
   "cell_type": "code",
   "execution_count": 4,
   "metadata": {},
   "outputs": [],
   "source": [
    "import pandas as pd"
   ]
  },
  {
   "cell_type": "code",
   "execution_count": 5,
   "metadata": {},
   "outputs": [
    {
     "data": {
      "text/html": [
       "<div>\n",
       "<style scoped>\n",
       "    .dataframe tbody tr th:only-of-type {\n",
       "        vertical-align: middle;\n",
       "    }\n",
       "\n",
       "    .dataframe tbody tr th {\n",
       "        vertical-align: top;\n",
       "    }\n",
       "\n",
       "    .dataframe thead th {\n",
       "        text-align: right;\n",
       "    }\n",
       "</style>\n",
       "<table border=\"1\" class=\"dataframe\">\n",
       "  <thead>\n",
       "    <tr style=\"text-align: right;\">\n",
       "      <th></th>\n",
       "      <th>0</th>\n",
       "      <th>1</th>\n",
       "      <th>2</th>\n",
       "    </tr>\n",
       "  </thead>\n",
       "  <tbody>\n",
       "    <tr>\n",
       "      <th>398</th>\n",
       "      <td>क्या हाल चाल है</td>\n",
       "      <td>3</td>\n",
       "      <td>neutral</td>\n",
       "    </tr>\n",
       "    <tr>\n",
       "      <th>235</th>\n",
       "      <td>होटल तो लाजवाब है</td>\n",
       "      <td>2</td>\n",
       "      <td>happy</td>\n",
       "    </tr>\n",
       "    <tr>\n",
       "      <th>413</th>\n",
       "      <td>कैब वाले ने मुझसे बदतमीजी की</td>\n",
       "      <td>4</td>\n",
       "      <td>sad</td>\n",
       "    </tr>\n",
       "    <tr>\n",
       "      <th>133</th>\n",
       "      <td>क्या कमल कर दिया तूने</td>\n",
       "      <td>2</td>\n",
       "      <td>happy</td>\n",
       "    </tr>\n",
       "    <tr>\n",
       "      <th>242</th>\n",
       "      <td>लाजवाब जगह था वह</td>\n",
       "      <td>2</td>\n",
       "      <td>happy</td>\n",
       "    </tr>\n",
       "    <tr>\n",
       "      <th>...</th>\n",
       "      <td>...</td>\n",
       "      <td>...</td>\n",
       "      <td>...</td>\n",
       "    </tr>\n",
       "    <tr>\n",
       "      <th>299</th>\n",
       "      <td>क्या अभी तुरंत हो जाएगा</td>\n",
       "      <td>3</td>\n",
       "      <td>neutral</td>\n",
       "    </tr>\n",
       "    <tr>\n",
       "      <th>507</th>\n",
       "      <td>वह होटल बेकार निकला</td>\n",
       "      <td>4</td>\n",
       "      <td>sad</td>\n",
       "    </tr>\n",
       "    <tr>\n",
       "      <th>221</th>\n",
       "      <td>वूहू ! !</td>\n",
       "      <td>2</td>\n",
       "      <td>happy</td>\n",
       "    </tr>\n",
       "    <tr>\n",
       "      <th>419</th>\n",
       "      <td>ट्रैन टिकट अपने आप कैंसिल कैसे हो गयी</td>\n",
       "      <td>4</td>\n",
       "      <td>sad</td>\n",
       "    </tr>\n",
       "    <tr>\n",
       "      <th>501</th>\n",
       "      <td>परेशान हो गया हूं यार</td>\n",
       "      <td>4</td>\n",
       "      <td>sad</td>\n",
       "    </tr>\n",
       "  </tbody>\n",
       "</table>\n",
       "<p>513 rows × 3 columns</p>\n",
       "</div>"
      ],
      "text/plain": [
       "                                          0  1        2\n",
       "398                        क्या हाल चाल है   3  neutral\n",
       "235                      होटल तो लाजवाब है   2    happy\n",
       "413           कैब वाले ने मुझसे बदतमीजी की   4      sad\n",
       "133                  क्या कमल कर दिया तूने   2    happy\n",
       "242                       लाजवाब जगह था वह   2    happy\n",
       "..                                      ... ..      ...\n",
       "299                क्या अभी तुरंत हो जाएगा   3  neutral\n",
       "507                    वह होटल बेकार निकला   4      sad\n",
       "221                                वूहू ! !  2    happy\n",
       "419  ट्रैन टिकट अपने आप कैंसिल कैसे हो गयी   4      sad\n",
       "501                   परेशान हो गया हूं यार  4      sad\n",
       "\n",
       "[513 rows x 3 columns]"
      ]
     },
     "execution_count": 5,
     "metadata": {},
     "output_type": "execute_result"
    }
   ],
   "source": [
    "df = pd.read_csv('dataset1.csv', header=None)\n",
    "ds = df.sample(frac=1)\n",
    "ds"
   ]
  },
  {
   "cell_type": "code",
   "execution_count": 6,
   "metadata": {},
   "outputs": [],
   "source": [
    "ds.loc[:, 2] = \"__label__\" + ds.loc[:, 2] "
   ]
  },
  {
   "cell_type": "code",
   "execution_count": 7,
   "metadata": {},
   "outputs": [],
   "source": [
    "ds.to_csv('shuffledDataset.csv')"
   ]
  },
  {
   "cell_type": "code",
   "execution_count": null,
   "metadata": {},
   "outputs": [],
   "source": []
  }
 ],
 "metadata": {
  "kernelspec": {
   "display_name": "Python [conda env:nlp] *",
   "language": "python",
   "name": "conda-env-nlp-py"
  },
  "language_info": {
   "codemirror_mode": {
    "name": "ipython",
    "version": 3
   },
   "file_extension": ".py",
   "mimetype": "text/x-python",
   "name": "python",
   "nbconvert_exporter": "python",
   "pygments_lexer": "ipython3",
   "version": "3.7.6"
  }
 },
 "nbformat": 4,
 "nbformat_minor": 4
}
