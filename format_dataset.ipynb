{
 "cells": [
  {
   "cell_type": "code",
   "execution_count": 1,
   "metadata": {},
   "outputs": [],
   "source": [
    "import os\n",
    "import csv"
   ]
  },
  {
   "cell_type": "code",
   "execution_count": 2,
   "metadata": {},
   "outputs": [],
   "source": [
    "def make_dataset(label, index):\n",
    "    data = []\n",
    "\n",
    "    path = \"/home/astanwar99/Devspace/DeepLearning/emotion_classification/emotions/\" + label + \"/\"\n",
    "    all_files = os.listdir(path)\n",
    "    for file in all_files:\n",
    "       # open the file and then call .read() to get the text\n",
    "        with open(os.path.join(path, file)) as f:\n",
    "            text = f.read()\n",
    "            data.append(text)\n",
    "    \n",
    "    with open('dataset1.csv', 'a', newline='') as file:\n",
    "        writer = csv.writer(file)\n",
    "        for i in data:\n",
    "            temp = [i, index, label]\n",
    "            writer.writerow(temp)"
   ]
  },
  {
   "cell_type": "code",
   "execution_count": 3,
   "metadata": {},
   "outputs": [],
   "source": [
    "make_dataset(\"angry\", 1)\n",
    "make_dataset(\"happy\", 2)\n",
    "make_dataset(\"neutral\", 3)\n",
    "make_dataset(\"sad\", 4)"
   ]
  },
  {
   "cell_type": "code",
   "execution_count": null,
   "metadata": {},
   "outputs": [],
   "source": []
  }
 ],
 "metadata": {
  "kernelspec": {
   "display_name": "Python [conda env:nlp] *",
   "language": "python",
   "name": "conda-env-nlp-py"
  },
  "language_info": {
   "codemirror_mode": {
    "name": "ipython",
    "version": 3
   },
   "file_extension": ".py",
   "mimetype": "text/x-python",
   "name": "python",
   "nbconvert_exporter": "python",
   "pygments_lexer": "ipython3",
   "version": "3.7.6"
  }
 },
 "nbformat": 4,
 "nbformat_minor": 4
}
